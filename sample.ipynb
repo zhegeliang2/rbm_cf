{
 "cells": [
  {
   "cell_type": "code",
   "execution_count": 11,
   "metadata": {},
   "outputs": [
    {
     "data": {
      "image/png": "[encoded data removed]",
      "text/plain": [
       "<matplotlib.figure.Figure at 0x7fd35f6c0690>"
      ]
     },
     "metadata": {},
     "output_type": "display_data"
    }
   ],
   "source": [
    "import numpy as np\n",
    "import math\n",
    "from numpy import linalg as la\n",
    "import matplotlib.pyplot as plt\n",
    "import matplotlib.mlab as mlab\n",
    "import time\n",
    "\n",
    "mu,sig,N = 0,1,1000000\n",
    "pts = []\n",
    "\n",
    "def q(x):\n",
    "    return (1/(math.sqrt(2*math.pi*sig**2)))*(math.e**(-((x-mu)**2)/(2*sig**2)))\n",
    "\n",
    "def metropolis(N):\n",
    "    r = np.zeros(1)\n",
    "    p = q(r[0])\n",
    "    pts = []\n",
    "    \n",
    "    for i in range(N):\n",
    "        rn = r + np.random.uniform(-1,1)\n",
    "        pn = q(rn[0])\n",
    "        if pn >= p:\n",
    "            p = pn\n",
    "            r = rn\n",
    "        else:\n",
    "            u = np.random.rand()\n",
    "            if u < pn/p:\n",
    "                p = pn\n",
    "                r = rn\n",
    "        pts.append(r)\n",
    "    \n",
    "    pts = np.array(pts)\n",
    "    return pts\n",
    "    \n",
    "b=metropolis(N)\n",
    "plt.hist(b, bins=1000) \n",
    "plt.show()"
   ]
  },
  {
   "cell_type": "code",
   "execution_count": 12,
   "metadata": {},
   "outputs": [
    {
     "data": {
      "image/png": "[encoded data removed]",
      "text/plain": [
       "<matplotlib.figure.Figure at 0x7fd35f4e3c50>"
      ]
     },
     "metadata": {},
     "output_type": "display_data"
    }
   ],
   "source": [
    "#coding:utf-8\n",
    "\n",
    "#使用Metropolis-Hastings， 采样正太分布\n",
    "import numpy as np\n",
    "import math\n",
    "from numpy import linalg as la\n",
    "import matplotlib.pyplot as plt\n",
    "import matplotlib.mlab as mlab\n",
    "import time\n",
    "\n",
    "mu,sig,N = 0,1,1000000\n",
    "pts = []\n",
    "\n",
    "def q(x):\n",
    "    return (1/(math.sqrt(2*math.pi*sig**2)))*(math.e**(-((x-mu)**2)/(2*sig**2)))\n",
    "\n",
    "def metropolis(N):\n",
    "    #初始值x0\n",
    "    r = np.zeros(1)\n",
    "    p = q(r[0])\n",
    "    pts = []\n",
    "    \n",
    "    for i in range(N):\n",
    "        #建议分布是均匀分布，使用这个分布的好处是aij=min{1, (q_ji*p_j/q_ij*p_i)}，其中q_ij和q_ji在建议分布中是相等的，因此aij仅仅是aij=min{1, p_j/p_i}\n",
    "        #下一节点j\n",
    "        rn = r + np.random.uniform(-1,1)\n",
    "        #pj\n",
    "        pn = q(rn[0])\n",
    "        #如果p_j/p_i是1，接受转移\n",
    "        if pn >= p:\n",
    "            p = pn\n",
    "            r = rn\n",
    "        else:\n",
    "            #否则，以一定概率接受\n",
    "            u = np.random.rand()\n",
    "            if u < pn/p:\n",
    "                p = pn\n",
    "                r = rn\n",
    "        pts.append(r)\n",
    "    \n",
    "    pts = np.array(pts)\n",
    "    return pts\n",
    "    \n",
    "b=metropolis(N)\n",
    "plt.hist(b, bins=1000) \n",
    "plt.show()"
   ]
  },
  {
   "cell_type": "code",
   "execution_count": 14,
   "metadata": {},
   "outputs": [
    {
     "name": "stdout",
     "output_type": "stream",
     "text": [
      "hi\n"
     ]
    }
   ],
   "source": [
    "print \"hi\""
   ]
  },
  {
   "cell_type": "code",
   "execution_count": 40,
   "metadata": {},
   "outputs": [
    {
     "name": "stdout",
     "output_type": "stream",
     "text": [
      "你 39902\n",
      "好 30204\n",
      "中 9992\n",
      "国 19902\n"
     ]
    }
   ],
   "source": [
    "vec = [0.1, 0.2, 0.4, 0.3]\n",
    "def sample_discrete(vec):\n",
    "    u = np.random.rand()\n",
    "    start = 0\n",
    "    for i,p in enumerate(vec):\n",
    "        if u > start:\n",
    "            start += p\n",
    "        else:\n",
    "            return i-1\n",
    "    return i\n",
    "index2word = [\"中\", \"国\", \"你\", \"好\"]\n",
    "result = dict([(w, 0) for w in index2word])\n",
    "for i in range(100000):\n",
    "    index = sample_discrete(vec)\n",
    "    result[index2word[index]] += 1\n",
    "for i,k in result.items():\n",
    "    print i,k\n"
   ]
  },
  {
   "cell_type": "code",
   "execution_count": 48,
   "metadata": {},
   "outputs": [
    {
     "data": {
      "image/png": "[encoded data removed]",
      "text/plain": [
       "<matplotlib.figure.Figure at 0x7fd3623a9f10>"
      ]
     },
     "metadata": {},
     "output_type": "display_data"
    }
   ],
   "source": [
    "from pylab import *\n",
    "import numpy as np\n",
    "\n",
    "#box-muller的极坐标形式，推导可以参考https://en.wikipedia.org/wiki/Box%E2%80%93Muller_transform\n",
    "def boxmuller_polar(n):\n",
    "    \n",
    "    x = np.zeros((n,2))\n",
    "    y = np.zeros((n,2))\n",
    "    \n",
    "    for i in range(n):\n",
    "        x[i,:] = np.array([2,2])\n",
    "        x2 = x[i,0]*x[i,0]+x[i,1]*x[i,1]\n",
    "        while (x2)>1:\n",
    "            x[i,:] = np.random.rand(2)*2-1\n",
    "            x2 = x[i,0]*x[i,0]+x[i,1]*x[i,1]\n",
    "\n",
    "        y[i,:] = x[i,:] * np.sqrt((-2*log(x2))/x2)\n",
    "    \n",
    "    y = np.reshape(y,2*n,1)\n",
    "    return y\n",
    "#box-muller基本形式\n",
    "def boxmuller_basic(n):\n",
    "    y = []\n",
    "    for i in range(n):\n",
    "        U1 = np.random.rand()\n",
    "        U2 = np.random.rand()\n",
    "        theta = np.pi * 2*U1\n",
    "        r = np.sqrt(-2*log(U2))\n",
    "        y.append(r*sin(theta))\n",
    "        y.append(r*cos(theta))\n",
    "#y = boxmuller(1000)\n",
    "y = boxmuller(1000)\n",
    "hist(y,normed=1,fc='c')\n",
    "x = arange(-4,4,0.1)\n",
    "plot(x,1/np.sqrt(2*np.pi)*np.exp(-0.5*x**2),'g',lw=6)\n",
    "xlabel('x',fontsize=24)\n",
    "ylabel('p(x)',fontsize=24)\n",
    "show()"
   ]
  },
  {
   "cell_type": "code",
   "execution_count": null,
   "metadata": {
    "collapsed": true
   },
   "outputs": [],
   "source": []
  }
 ],
 "metadata": {
  "kernelspec": {
   "display_name": "Python 2",
   "language": "python",
   "name": "python2"
  },
  "language_info": {
   "codemirror_mode": {
    "name": "ipython",
    "version": 2
   },
   "file_extension": ".py",
   "mimetype": "text/x-python",
   "name": "python",
   "nbconvert_exporter": "python",
   "pygments_lexer": "ipython2",
   "version": "2.7.8"
  }
 },
 "nbformat": 4,
 "nbformat_minor": 2
}
